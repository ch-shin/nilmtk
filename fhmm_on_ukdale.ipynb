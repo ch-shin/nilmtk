{
 "cells": [
  {
   "cell_type": "code",
   "execution_count": 42,
   "metadata": {},
   "outputs": [
    {
     "name": "stdout",
     "output_type": "stream",
     "text": [
      "The autoreload extension is already loaded. To reload it, use:\n",
      "  %reload_ext autoreload\n",
      "building_1_kettle.csv (100799,)\n",
      "building_1_microwave.csv (100800,)\n",
      "building_1_fridge.csv (100799,)\n",
      "building_1_dish_washer.csv (100800,)\n",
      "building_1_washing_machine.csv (100800,)\n",
      "/home/chshin/kdd-19/data/ukdale/building_1_mains.csv (100800,)\n",
      "building_2_kettle.csv (100800,)\n",
      "building_2_microwave.csv (100795,)\n",
      "building_2_fridge.csv (100795,)\n",
      "building_2_dish_washer.csv (100794,)\n",
      "building_2_washing_machine.csv (100794,)\n",
      "/home/chshin/kdd-19/data/ukdale/building_2_mains.csv (100801,)\n",
      "building_3_kettle.csv (100800,)\n",
      "/home/chshin/kdd-19/data/ukdale/building_3_mains.csv (100798,)\n",
      "building_4_kettle.csv (74633,)\n",
      "building_4_fridge.csv (100801,)\n",
      "/home/chshin/kdd-19/data/ukdale/building_4_mains.csv (100800,)\n",
      "building_5_kettle.csv (86400,)\n",
      "building_5_microwave.csv (86400,)\n",
      "building_5_fridge.csv (86400,)\n",
      "building_5_dish_washer.csv (86400,)\n",
      "building_5_washing_machine.csv (86400,)\n",
      "/home/chshin/kdd-19/data/ukdale/building_5_mains.csv (86400,)\n"
     ]
    }
   ],
   "source": [
    "nips_seed = 20180518\n",
    "import numpy as np\n",
    "np.random.seed(nips_seed)\n",
    "import sys\n",
    "import os\n",
    "sys.path.append('../')\n",
    "import random as rn\n",
    "rn.seed(nips_seed)\n",
    "import os\n",
    "os.environ['PYTHONHASHSEED'] = '0'\n",
    "import pandas as pd\n",
    "import data_utils\n",
    "import matplotlib.pyplot as plt\n",
    "import factorialhmm\n",
    "%load_ext autoreload\n",
    "%autoreload 2\n",
    "\n",
    "OUTPUT_LENGTH = 599\n",
    "ADDITIONAL_WINDOW = 0\n",
    "data = data_utils.DataHandler(output_length = OUTPUT_LENGTH, additional_window = ADDITIONAL_WINDOW)\n",
    "data.read_data('ukdale')"
   ]
  },
  {
   "cell_type": "code",
   "execution_count": 43,
   "metadata": {},
   "outputs": [
    {
     "name": "stdout",
     "output_type": "stream",
     "text": [
      "1\n",
      "3\n",
      "4\n",
      "5\n",
      "2\n"
     ]
    }
   ],
   "source": [
    "fhmm = factorialhmm.FHMM()\n",
    "fhmm.data_converter(data)\n"
   ]
  },
  {
   "cell_type": "code",
   "execution_count": 88,
   "metadata": {},
   "outputs": [
    {
     "name": "stdout",
     "output_type": "stream",
     "text": [
      "Training for kettle\n"
     ]
    },
    {
     "name": "stderr",
     "output_type": "stream",
     "text": [
      "/home/chshin/anaconda3/envs/nilmtk-env/lib/python3.6/site-packages/sklearn/utils/deprecation.py:77: DeprecationWarning: Function distribute_covar_matrix_to_match_covariance_type is deprecated; The function distribute_covar_matrix_to_match_covariance_typeis deprecated in 0.18 and will be removed in 0.20.\n",
      "  warnings.warn(msg, category=DeprecationWarning)\n"
     ]
    },
    {
     "name": "stdout",
     "output_type": "stream",
     "text": [
      "Means for kettle are\n",
      "[[1.12901820e+00]\n",
      " [2.38714545e+03]]\n",
      "Training for microwave\n"
     ]
    },
    {
     "name": "stderr",
     "output_type": "stream",
     "text": [
      "/home/chshin/anaconda3/envs/nilmtk-env/lib/python3.6/site-packages/sklearn/utils/deprecation.py:77: DeprecationWarning: Function distribute_covar_matrix_to_match_covariance_type is deprecated; The function distribute_covar_matrix_to_match_covariance_typeis deprecated in 0.18 and will be removed in 0.20.\n",
      "  warnings.warn(msg, category=DeprecationWarning)\n"
     ]
    },
    {
     "name": "stdout",
     "output_type": "stream",
     "text": [
      "Means for microwave are\n",
      "[[  23.64693285]\n",
      " [1412.58870332]]\n",
      "Training for fridge\n"
     ]
    },
    {
     "name": "stderr",
     "output_type": "stream",
     "text": [
      "/home/chshin/anaconda3/envs/nilmtk-env/lib/python3.6/site-packages/sklearn/utils/deprecation.py:77: DeprecationWarning: Function distribute_covar_matrix_to_match_covariance_type is deprecated; The function distribute_covar_matrix_to_match_covariance_typeis deprecated in 0.18 and will be removed in 0.20.\n",
      "  warnings.warn(msg, category=DeprecationWarning)\n"
     ]
    },
    {
     "name": "stdout",
     "output_type": "stream",
     "text": [
      "Means for fridge are\n",
      "[[ 0.        ]\n",
      " [98.55728539]]\n",
      "Training for dish_washer\n"
     ]
    },
    {
     "name": "stderr",
     "output_type": "stream",
     "text": [
      "/home/chshin/anaconda3/envs/nilmtk-env/lib/python3.6/site-packages/sklearn/utils/deprecation.py:77: DeprecationWarning: Function distribute_covar_matrix_to_match_covariance_type is deprecated; The function distribute_covar_matrix_to_match_covariance_typeis deprecated in 0.18 and will be removed in 0.20.\n",
      "  warnings.warn(msg, category=DeprecationWarning)\n"
     ]
    },
    {
     "name": "stdout",
     "output_type": "stream",
     "text": [
      "Means for dish_washer are\n",
      "[[4.81123069e-01]\n",
      " [7.15181160e+02]]\n",
      "Training for washing_machine\n"
     ]
    },
    {
     "name": "stderr",
     "output_type": "stream",
     "text": [
      "/home/chshin/anaconda3/envs/nilmtk-env/lib/python3.6/site-packages/sklearn/utils/deprecation.py:77: DeprecationWarning: Function distribute_covar_matrix_to_match_covariance_type is deprecated; The function distribute_covar_matrix_to_match_covariance_typeis deprecated in 0.18 and will be removed in 0.20.\n",
      "  warnings.warn(msg, category=DeprecationWarning)\n"
     ]
    },
    {
     "name": "stdout",
     "output_type": "stream",
     "text": [
      "Means for washing_machine are\n",
      "[[  7.28655721]\n",
      " [603.70124742]]\n"
     ]
    }
   ],
   "source": [
    "fhmm.train()"
   ]
  },
  {
   "cell_type": "code",
   "execution_count": 84,
   "metadata": {},
   "outputs": [
    {
     "name": "stdout",
     "output_type": "stream",
     "text": [
      "Training for kettle\n"
     ]
    },
    {
     "name": "stderr",
     "output_type": "stream",
     "text": [
      "/home/chshin/anaconda3/envs/nilmtk-env/lib/python3.6/site-packages/sklearn/utils/deprecation.py:77: DeprecationWarning: Function distribute_covar_matrix_to_match_covariance_type is deprecated; The function distribute_covar_matrix_to_match_covariance_typeis deprecated in 0.18 and will be removed in 0.20.\n",
      "  warnings.warn(msg, category=DeprecationWarning)\n",
      "/home/chshin/anaconda3/envs/nilmtk-env/lib/python3.6/site-packages/hmmlearn/base.py:465: DeprecationWarning: `logsumexp` is deprecated!\n",
      "Importing `logsumexp` from scipy.misc is deprecated in scipy 1.0.0. Use `scipy.special.logsumexp` instead.\n",
      "  return logsumexp(fwdlattice[-1]), fwdlattice\n",
      "/home/chshin/anaconda3/envs/nilmtk-env/lib/python3.6/site-packages/hmmlearn/utils.py:46: DeprecationWarning: `logsumexp` is deprecated!\n",
      "Importing `logsumexp` from scipy.misc is deprecated in scipy 1.0.0. Use `scipy.special.logsumexp` instead.\n",
      "  a_lse = logsumexp(a, axis)\n"
     ]
    },
    {
     "name": "stdout",
     "output_type": "stream",
     "text": [
      "Means for kettle are\n",
      "[[1.12901820e+00]\n",
      " [2.38714545e+03]]\n",
      "Training for microwave\n"
     ]
    },
    {
     "name": "stderr",
     "output_type": "stream",
     "text": [
      "/home/chshin/anaconda3/envs/nilmtk-env/lib/python3.6/site-packages/sklearn/utils/deprecation.py:77: DeprecationWarning: Function distribute_covar_matrix_to_match_covariance_type is deprecated; The function distribute_covar_matrix_to_match_covariance_typeis deprecated in 0.18 and will be removed in 0.20.\n",
      "  warnings.warn(msg, category=DeprecationWarning)\n"
     ]
    },
    {
     "name": "stdout",
     "output_type": "stream",
     "text": [
      "Means for microwave are\n",
      "[[  23.64693285]\n",
      " [1412.58870332]]\n",
      "Training for fridge\n"
     ]
    },
    {
     "name": "stderr",
     "output_type": "stream",
     "text": [
      "/home/chshin/anaconda3/envs/nilmtk-env/lib/python3.6/site-packages/sklearn/utils/deprecation.py:77: DeprecationWarning: Function distribute_covar_matrix_to_match_covariance_type is deprecated; The function distribute_covar_matrix_to_match_covariance_typeis deprecated in 0.18 and will be removed in 0.20.\n",
      "  warnings.warn(msg, category=DeprecationWarning)\n"
     ]
    },
    {
     "name": "stdout",
     "output_type": "stream",
     "text": [
      "Means for fridge are\n",
      "[[ 0.        ]\n",
      " [98.55728539]]\n",
      "Training for dish_washer\n"
     ]
    },
    {
     "name": "stderr",
     "output_type": "stream",
     "text": [
      "/home/chshin/anaconda3/envs/nilmtk-env/lib/python3.6/site-packages/sklearn/utils/deprecation.py:77: DeprecationWarning: Function distribute_covar_matrix_to_match_covariance_type is deprecated; The function distribute_covar_matrix_to_match_covariance_typeis deprecated in 0.18 and will be removed in 0.20.\n",
      "  warnings.warn(msg, category=DeprecationWarning)\n"
     ]
    },
    {
     "name": "stdout",
     "output_type": "stream",
     "text": [
      "Means for dish_washer are\n",
      "[[4.81123069e-01]\n",
      " [7.15181160e+02]]\n",
      "Training for washing_machine\n"
     ]
    },
    {
     "name": "stderr",
     "output_type": "stream",
     "text": [
      "/home/chshin/anaconda3/envs/nilmtk-env/lib/python3.6/site-packages/sklearn/utils/deprecation.py:77: DeprecationWarning: Function distribute_covar_matrix_to_match_covariance_type is deprecated; The function distribute_covar_matrix_to_match_covariance_typeis deprecated in 0.18 and will be removed in 0.20.\n",
      "  warnings.warn(msg, category=DeprecationWarning)\n"
     ]
    },
    {
     "name": "stdout",
     "output_type": "stream",
     "text": [
      "Means for washing_machine are\n",
      "[[  7.28655721]\n",
      " [603.70124742]]\n",
      "GaussianHMM(algorithm='viterbi', covariance_type='full', covars_prior=0.01,\n",
      "      covars_weight=1, init_params='stmc', means_prior=0, means_weight=0,\n",
      "      min_covar=0.001, n_components=2, n_iter=10, params='stmc',\n",
      "      random_state=None, startprob_prior=1.0, tol=0.01, transmat_prior=1.0,\n",
      "      verbose=False)\n",
      "GaussianHMM(algorithm='viterbi', covariance_type='full', covars_prior=0.01,\n",
      "      covars_weight=1, init_params='stmc', means_prior=0, means_weight=0,\n",
      "      min_covar=0.001, n_components=2, n_iter=10, params='stmc',\n",
      "      random_state=None, startprob_prior=1.0, tol=0.01, transmat_prior=1.0,\n",
      "      verbose=False)\n",
      "GaussianHMM(algorithm='viterbi', covariance_type='full', covars_prior=0.01,\n",
      "      covars_weight=1, init_params='stmc', means_prior=0, means_weight=0,\n",
      "      min_covar=0.001, n_components=2, n_iter=10, params='stmc',\n",
      "      random_state=None, startprob_prior=1.0, tol=0.01, transmat_prior=1.0,\n",
      "      verbose=False)\n",
      "GaussianHMM(algorithm='viterbi', covariance_type='full', covars_prior=0.01,\n",
      "      covars_weight=1, init_params='stmc', means_prior=0, means_weight=0,\n",
      "      min_covar=0.001, n_components=2, n_iter=10, params='stmc',\n",
      "      random_state=None, startprob_prior=1.0, tol=0.01, transmat_prior=1.0,\n",
      "      verbose=False)\n",
      "GaussianHMM(algorithm='viterbi', covariance_type='full', covars_prior=0.01,\n",
      "      covars_weight=1, init_params='stmc', means_prior=0, means_weight=0,\n",
      "      min_covar=0.001, n_components=2, n_iter=10, params='stmc',\n",
      "      random_state=None, startprob_prior=1.0, tol=0.01, transmat_prior=1.0,\n",
      "      verbose=False)\n"
     ]
    }
   ],
   "source": [
    "import itertools\n",
    "from six import iteritems\n",
    "from copy import deepcopy\n",
    "from collections import OrderedDict\n",
    "from hmmlearn import hmm\n",
    "\n",
    "x_train = fhmm.main['train']\n",
    "y_train = fhmm.apps['train']\n",
    "models = {}\n",
    "for appliance in fhmm.appliance_list:\n",
    "    print(\"Training for\", appliance)\n",
    "    o = []\n",
    "    for seq in y_train[appliance]:\n",
    "        #seq = seq.reshape((seq.shape[0], 1))\n",
    "        activation = (seq > 10).sum() * 1.0 / len(seq)\n",
    "        if activation > 0:\n",
    "            #o.append(seq)\n",
    "            o = o + list(seq)\n",
    "\n",
    "    if len(o) >= 1:\n",
    "        o = np.array(o).reshape((-1,1))\n",
    "        mod = hmm.GaussianHMM(2, \"full\")\n",
    "        mod.fit(o)\n",
    "        models[appliance] = mod\n",
    "        print(\"Means for %s are\" % appliance)\n",
    "        print(mod.means_)\n",
    "    else:\n",
    "        print(\"Not enough samples for %s\" % appliance)\n",
    "\n",
    "new_learnt_models = OrderedDict()\n",
    "for appliance, appliance_model in iteritems(models):\n",
    "    print(appliance_model)\n",
    "    startprob, means, covars, transmat = factorialhmm.sort_learnt_parameters(\n",
    "        appliance_model.startprob_, appliance_model.means_,\n",
    "        appliance_model.covars_, appliance_model.transmat_)\n",
    "    new_learnt_models[appliance] = hmm.GaussianHMM(\n",
    "        startprob.size, \"full\", startprob, transmat)\n",
    "    new_learnt_models[appliance].means_ = means\n",
    "    new_learnt_models[appliance].covars_ = covars\n",
    "    new_learnt_models[appliance].startprob_ = startprob\n",
    "    new_learnt_models[appliance].transmat_ = transmat\n",
    "    \n",
    "\n",
    "learnt_model_combined = factorialhmm.create_combined_hmm(new_learnt_models)\n",
    "fhmm.individual = new_learnt_models\n",
    "fhmm.model = learnt_model_combined\n",
    "fhmm.x_train = x_train\n",
    "fhmm.y_train = y_train"
   ]
  },
  {
   "cell_type": "code",
   "execution_count": 89,
   "metadata": {},
   "outputs": [
    {
     "name": "stderr",
     "output_type": "stream",
     "text": [
      "/home/chshin/nilmtk/nilmtk/factorialhmm.py:286: FutureWarning: reshape is deprecated and will raise in a subsequent release. Please use .values.reshape(...) instead\n",
      "  # Model\n"
     ]
    },
    {
     "name": "stdout",
     "output_type": "stream",
     "text": [
      "kettle\n",
      "microwave\n",
      "fridge\n",
      "dish_washer\n",
      "washing_machine\n"
     ]
    }
   ],
   "source": [
    "fhmm.test()"
   ]
  },
  {
   "cell_type": "code",
   "execution_count": 90,
   "metadata": {},
   "outputs": [
    {
     "data": {
      "image/png": "[encoded data removed]",
      "text/plain": [
       "<Figure size 432x288 with 1 Axes>"
      ]
     },
     "metadata": {
      "needs_background": "light"
     },
     "output_type": "display_data"
    },
    {
     "data": {
      "image/png": "[encoded data removed]",
      "text/plain": [
       "<Figure size 432x288 with 1 Axes>"
      ]
     },
     "metadata": {
      "needs_background": "light"
     },
     "output_type": "display_data"
    },
    {
     "data": {
      "image/png": "[encoded data removed]",
      "text/plain": [
       "<Figure size 432x288 with 1 Axes>"
      ]
     },
     "metadata": {
      "needs_background": "light"
     },
     "output_type": "display_data"
    },
    {
     "data": {
      "image/png": "[encoded data removed]",
      "text/plain": [
       "<Figure size 432x288 with 1 Axes>"
      ]
     },
     "metadata": {
      "needs_background": "light"
     },
     "output_type": "display_data"
    },
    {
     "data": {
      "image/png": "[encoded data removed]",
      "text/plain": [
       "<Figure size 432x288 with 1 Axes>"
      ]
     },
     "metadata": {
      "needs_background": "light"
     },
     "output_type": "display_data"
    },
    {
     "name": "stdout",
     "output_type": "stream",
     "text": [
      "           dish_washer     fridge     kettle  microwave  washing_machine\n",
      "F1            0.027296   0.556838   0.026557   0.998539         0.155316\n",
      "accuracy      0.814423   0.697571   0.981338   0.997093         0.994841\n",
      "mae          48.251533  60.925164  38.018305  43.633788        67.913209\n",
      "maep         48.251533  60.925164  38.018305  43.633788        67.913209\n",
      "nde           0.802739   1.502675   1.259963   6.844581         2.851646\n",
      "precision     0.380028   0.398539   0.397110   0.997083         0.487384\n",
      "re            0.821395   0.657208   0.027307   0.998380         0.548992\n",
      "recall        0.014156   0.923748   0.013738   1.000000         0.092377\n",
      "sae           0.619494   1.200408   1.158142  12.710002         3.895139\n",
      "{'F1': 0.3529092896361297,\n",
      " 'accuracy': 0.8970533960354782,\n",
      " 'mae': 51.748399706331725,\n",
      " 'maep': 51.748399706331725,\n",
      " 'nde': 2.6523210017421563,\n",
      " 'precision': 0.532028807558034,\n",
      " 're': 0.610656428097962,\n",
      " 'recall': 0.4088037640953678,\n",
      " 'sae': 3.9166369538023282}\n"
     ]
    }
   ],
   "source": [
    "import pprint\n",
    "ip, op = fhmm.get_all_metrics()#individual performance, overall performance\n",
    "print(ip)\n",
    "pprint.pprint(op)"
   ]
  }
 ],
 "metadata": {
  "kernelspec": {
   "display_name": "Python (nilmtk)",
   "language": "python",
   "name": "nilmtk-env"
  },
  "language_info": {
   "codemirror_mode": {
    "name": "ipython",
    "version": 3
   },
   "file_extension": ".py",
   "mimetype": "text/x-python",
   "name": "python",
   "nbconvert_exporter": "python",
   "pygments_lexer": "ipython3",
   "version": "3.6.7"
  }
 },
 "nbformat": 4,
 "nbformat_minor": 2
}
